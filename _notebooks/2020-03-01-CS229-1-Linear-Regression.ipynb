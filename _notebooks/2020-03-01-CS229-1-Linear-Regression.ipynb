{
 "cells": [
  {
   "cell_type": "markdown",
   "metadata": {},
   "source": [
    "# Linear Regression"
   ]
  },
  {
   "cell_type": "markdown",
   "metadata": {},
   "source": [
    "## General Form\n",
    "\n",
    "$$\n",
    "h(x) = \\sum_{i=0}^{d} \\theta_i x_i = \\theta^{T}x\n",
    "$$\n",
    "\n",
    "where\n",
    "\n",
    "$\\theta$ is the parameters\n",
    "\n",
    "$x$ is the variable\n",
    "\n",
    "## Cost Function\n",
    "\n",
    "$$\n",
    "J(\\theta) = \\frac{1}{2} \\sum_{i=1}^{n} (h_{\\theta}(x^{(i)}) - y^{(i)})^{2}\n",
    "$$\n",
    "\n",
    "Regresssion with this kind of loss function is called **ordinary least squares**\n",
    "\n",
    "## LMS (Least Mean Squared) Algorithm\n",
    "1. We want to choose $\\theta$ to minimize $J(\\theta)$\n",
    "2. to do so, we start with initial guess\n",
    "3. repeatedly update $\\theta$ to make $J(\\theta)$ smaller\n",
    "\n",
    "$$\n",
    "\\theta_j := \\theta_j - \\alpha \\frac{\\partial}{\\partial\\theta_j}J(\\theta)\n",
    "$$\n",
    "where $\\alpha$ is the learning rate\n",
    "\n",
    "since the derivatives $\\frac{\\partial}{\\partial\\theta_j} J(\\theta)$  is\n",
    "\n",
    "$$\n",
    "\\frac{\\partial}{\\partial\\theta_j} J(\\theta) = (h_\\theta(x) - y)x_j\n",
    "$$\n",
    "\n",
    "then we will get the update rule for $\\theta_j$\n",
    "\n",
    "$$\n",
    "\\theta_j := \\theta_j + \\alpha(y^{(i)} - h_\\theta(x^{(i)}))x^{(i)}\n",
    "$$"
   ]
  },
  {
   "cell_type": "code",
   "execution_count": 1,
   "metadata": {},
   "outputs": [],
   "source": [
    "import pandas as pd\n",
    "import numpy as np"
   ]
  },
  {
   "cell_type": "code",
   "execution_count": 134,
   "metadata": {},
   "outputs": [],
   "source": [
    "def h_x(theta, x):\n",
    "    \"\"\"\n",
    "    the dot product between weight & x\n",
    "    \"\"\"\n",
    "    y = np.zeros(x.shape[0])\n",
    "    \n",
    "    for i in range(len(y)):\n",
    "        y[i] = theta @ x[i]\n",
    "    return y\n",
    "\n",
    "def update_theta(theta, y, h_x, x, alpha=0.01):\n",
    "    \"\"\"\n",
    "    produces new theta\n",
    "    \"\"\"\n",
    "    return theta + alpha * ((y - h_x) @ x)"
   ]
  },
  {
   "cell_type": "code",
   "execution_count": 135,
   "metadata": {},
   "outputs": [],
   "source": [
    "def learn(theta, x, y, max_iter=1000):\n",
    "    \"\"\"\n",
    "    learn with gradient descent\n",
    "    \"\"\"\n",
    "    i = 0\n",
    "    stop = False\n",
    "    h_x1 = h_x(theta, x)\n",
    "    theta_new = np.copy(theta)\n",
    "    \n",
    "    while not stop or i == max_iter:\n",
    "        theta_new = update_theta(theta, y, h_x1, x)            \n",
    "        if np.all(np.isclose(theta, theta_new)):\n",
    "            stop = True\n",
    "            \n",
    "        theta = np.copy(theta_new)\n",
    "        h_x1 = h_x(theta, x)\n",
    "        i += 1\n",
    "    return theta\n",
    "\n",
    "def rmse(y_true, y_predicted):\n",
    "    \"\"\"\n",
    "    calculate root mean squared error\n",
    "    \"\"\"\n",
    "    return np.mean(np.sqrt(np.power(y_predicted - y_true, 2)))"
   ]
  },
  {
   "cell_type": "code",
   "execution_count": 136,
   "metadata": {},
   "outputs": [
    {
     "name": "stdout",
     "output_type": "stream",
     "text": [
      "initial prediction: [ 5.  6.  9. 12.], rmse: 3.0\n",
      "y: [2. 4. 6. 8.]\n",
      "current_prediction: [2.00000075 3.99999991 5.99999987 7.99999982], rmse: 2.8862683865149563e-07\n"
     ]
    }
   ],
   "source": [
    "x = np.array([[1.,1.,3.],[2.,2.,2.],[3.,3.,3.], [4., 4., 4.]])\n",
    "y = np.array([2.,4.,6., 8.])\n",
    "theta = np.array([1.,1.,1.])\n",
    "\n",
    "pred = h_x(theta, x)\n",
    "print('initial prediction: {}, rmse: {}'.format(pred, rmse(y, pred)))\n",
    "print('y: {}'.format(y))\n",
    "\n",
    "new_theta = learn(theta, x, y)\n",
    "pred = h_x(new_theta, x)\n",
    "print('current_prediction: {}, rmse: {}'.format(pred, rmse(y, pred)))\n"
   ]
  },
  {
   "cell_type": "markdown",
   "metadata": {},
   "source": [
    "this algorithm is called **stochastic gradient descent** (we just need to change theta into some random numbers instead of starting from 1 for each dimension) or **incremental gradient descent**"
   ]
  },
  {
   "cell_type": "code",
   "execution_count": 137,
   "metadata": {},
   "outputs": [],
   "source": [
    "import seaborn as sns\n",
    "import matplotlib.pyplot as plt\n",
    "\n",
    "plt.style.use('ggplot')"
   ]
  },
  {
   "cell_type": "code",
   "execution_count": 143,
   "metadata": {},
   "outputs": [
    {
     "data": {
      "text/plain": [
       "[<matplotlib.lines.Line2D at 0x7ff28c420390>]"
      ]
     },
     "execution_count": 143,
     "metadata": {},
     "output_type": "execute_result"
    },
    {
     "data": {
      "image/png": "[encoded data removed]",
      "text/plain": [
       "<Figure size 864x504 with 2 Axes>"
      ]
     },
     "metadata": {},
     "output_type": "display_data"
    }
   ],
   "source": [
    "np.random.seed(3)\n",
    "theta = np.random.rand(1)\n",
    "x = np.array([[1.],[2.],[3.]])\n",
    "y = np.array([2.,4.,6.])\n",
    "\n",
    "theta_new = learn(theta, x, y)\n",
    "pred = h_x(theta_new, x)\n",
    "\n",
    "f, ax = plt.subplots(figsize=(12, 7))\n",
    "plt.subplot(121)\n",
    "plt.title('Before Learning')\n",
    "plt.scatter(x[:,0], y)\n",
    "plt.plot(x, h_x(theta, x), linestyle='--', c='orange')\n",
    "\n",
    "plt.subplot(122)\n",
    "plt.title('After Learning')\n",
    "plt.scatter(x=x[:,0], y=y)\n",
    "plt.plot(x, pred, linestyle='--', c='orange')\n",
    "\n"
   ]
  },
  {
   "cell_type": "markdown",
   "metadata": {},
   "source": [
    "# References\n",
    "1. Stanford CS229 Lecture Notes.\n",
    "2. http://tutorial.math.lamar.edu/pdf/calculus_cheat_sheet_derivatives.pdf"
   ]
  }
 ],
 "metadata": {
  "kernelspec": {
   "display_name": "Python 3",
   "language": "python",
   "name": "python3"
  },
  "language_info": {
   "codemirror_mode": {
    "name": "ipython",
    "version": 3
   },
   "file_extension": ".py",
   "mimetype": "text/x-python",
   "name": "python",
   "nbconvert_exporter": "python",
   "pygments_lexer": "ipython3",
   "version": "3.7.6"
  }
 },
 "nbformat": 4,
 "nbformat_minor": 4
}
