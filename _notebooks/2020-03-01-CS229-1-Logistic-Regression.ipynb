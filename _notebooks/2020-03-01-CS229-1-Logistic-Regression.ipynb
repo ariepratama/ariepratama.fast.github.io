{
 "cells": [
  {
   "cell_type": "markdown",
   "metadata": {},
   "source": [
    "# Logistic Regression\n",
    "> \"Similar with linear regression but we wanted to change the output into 0 to 1.\"\n",
    "- toc: true\n",
    "- branch: master\n",
    "- badges: true\n",
    "- comments: true\n",
    "- categories: [machine-learning, supervised, classification]"
   ]
  },
  {
   "cell_type": "markdown",
   "metadata": {},
   "source": [
    "## General Formula\n",
    "\n",
    "$$\n",
    "h_\\theta(x) = g(\\theta^Tx) = \\frac{1}{1 + e^{-\\theta^Tx}}\n",
    "$$\n",
    "\n",
    "where\n",
    "$$\n",
    "g(z) = \\frac{1}{1+e^{-z}}\n",
    "$$\n",
    "\n",
    "note that linear regression equation is:\n",
    "$$\n",
    "z_\\theta = \\theta^Tx\n",
    "$$\n",
    "\n",
    "\n",
    "## Derivatives of Logistic Regression\n",
    "\n",
    "$$\\begin{eqnarray}\n",
    "g'(z) &=& \\frac{d}{dz} \\frac{1}{1 + e^{-z}}\\\\\n",
    " &=& \\frac{1}{(1+e^{-z})^2} (e^{-z}) \\\\\n",
    " &=& \\frac{1}{(1+e^{-z})} \\dot (1 - \\frac{1}{(1+e^{-z})})\\\\\n",
    " &=& g(z)(1 - g(z))\n",
    "\\end{eqnarray}\n",
    "$$\n",
    "\n",
    "## Classification with Logistic Regression\n",
    "First we can formualate the classification problem into\n",
    "\n",
    "$$\\begin{eqnarray}\n",
    "P(y=1 | x;\\theta) &=& h_{\\theta}(x)\\\\\n",
    "P(y=0 | x;\\theta) &=& 1 - h_{\\theta}(x)\n",
    "\\end{eqnarray}$$\n",
    "\n",
    "or more generally,\n",
    "\n",
    "$$\n",
    "p(y | x;\\theta) = h_\\theta(x)^y \\space (1-y_\\theta(x))^{(1-y)}\n",
    "$$\n",
    "\n",
    "$p(y | x;\\theta)$ in human language:\n",
    "> Given feature $x$ and some model parameter $\\theta$, the probability of the data could be classified as $y$\n",
    "\n",
    "$p(y | x;\\theta)$ will also be called Likelihood $L(\\theta)$.\n",
    "\n",
    "$$\\begin{eqnarray}\n",
    "L(\\theta) &=& p(\\vec{y} | X;\\theta)\\\\\n",
    "&=&\\prod_i^n p(y^{(i)} | x^{(i)};\\theta)\n",
    "\\end{eqnarray}$$\n",
    "\n",
    "\n",
    "and it will be easier to maximize the log likelihood:\n",
    "\n",
    "$$\\begin{eqnarray}\n",
    "\\ell(\\theta) &=& log \\space L(\\theta)\\\\\n",
    "&=&\\sum_{i=1}^{n}y^{(i)} log  \\\\\n",
    "&=&\\sum_{i=1}^{n}y^{(i)} \\text{log} h(x^{(i)}) + (1-y^{(i)}) \\text{log}(1-h(x^{(i)}))\n",
    "\\end{eqnarray}$$\n",
    "\n",
    "\n",
    "what about $\\theta$ update rule? suprisingly we still ends up in similar update equation\n",
    "\n",
    "$$\n",
    "\\theta_j := \\theta_j + \\alpha(y^{(\\theta)} - h_{\\theta}(x^{(i)}))x^{(i)}\n",
    "$$\n",
    "\n",
    "however it is not the same algorithm, because $h_\\theta(x^{(i)})$\n",
    "it's now called **perceptron learning algorithm**"
   ]
  },
  {
   "cell_type": "code",
   "execution_count": 4,
   "metadata": {},
   "outputs": [],
   "source": [
    "import numpy as np"
   ]
  },
  {
   "cell_type": "code",
   "execution_count": 119,
   "metadata": {},
   "outputs": [],
   "source": [
    "def h_x(theta, x):\n",
    "    \"\"\"\n",
    "    the dot product between weight & x\n",
    "    \"\"\"\n",
    "    y = np.zeros(x.shape[0])\n",
    "    z = np.zeros(x.shape[0])\n",
    "    for i in range(len(y)):\n",
    "        z[i] = theta @ x[i]\n",
    "    y = 1./(1 + np.power(np.e, -z))\n",
    "    return y\n",
    "\n",
    "def update_theta(theta, y, h_x, x, alpha=0.001):\n",
    "    \"\"\"\n",
    "    produces new theta\n",
    "    \"\"\"\n",
    "    return theta + alpha * ((y - h_x) @ x)\n",
    "\n",
    "\n",
    "def learn(theta, x, y, max_iter=1000):\n",
    "    \"\"\"\n",
    "    learn with gradient descent\n",
    "    \"\"\"\n",
    "    i = 0\n",
    "    stop = False\n",
    "    h_x1 = h_x(theta, x)\n",
    "    theta_new = np.copy(theta)\n",
    "    \n",
    "    while not stop or i < max_iter:\n",
    "        theta_new = update_theta(theta, y, h_x1, x)\n",
    "        if np.all(np.isclose(theta, theta_new)):\n",
    "            stop = True\n",
    "            \n",
    "        theta = np.copy(theta_new)\n",
    "        h_x1 = h_x(theta, x)\n",
    "        i += 1\n",
    "    return theta_new\n",
    "\n",
    "def accuracy(y_true, y_predicted):\n",
    "    \"\"\"\n",
    "    calculate the accuracy of classification\n",
    "    \"\"\"\n",
    "    return np.sum(y_true == y_predicted)/np.float(y_true.shape[0])"
   ]
  },
  {
   "cell_type": "code",
   "execution_count": 120,
   "metadata": {},
   "outputs": [],
   "source": [
    "import matplotlib.pyplot as plt"
   ]
  },
  {
   "cell_type": "code",
   "execution_count": 134,
   "metadata": {},
   "outputs": [
    {
     "data": {
      "text/plain": [
       "[<matplotlib.lines.Line2D at 0x7fb5539e8850>]"
      ]
     },
     "execution_count": 134,
     "metadata": {},
     "output_type": "execute_result"
    },
    {
     "data": {
      "image/png": "[encoded data removed]",
      "text/plain": [
       "<Figure size 864x504 with 2 Axes>"
      ]
     },
     "metadata": {
      "needs_background": "light"
     },
     "output_type": "display_data"
    }
   ],
   "source": [
    "np.random.seed(2)\n",
    "x = np.array([[1.], [2.], [3.], [4.], [5.], [6.]])\n",
    "y = np.array([0, 1, 0, 0, 1,1])\n",
    "theta = np.random.uniform(0, 1, 1)\n",
    "\n",
    "h_x1 = h_x(theta, x)\n",
    "theta_new = learn(theta, x, y)\n",
    "\n",
    "\n",
    "f, ax = plt.subplots(figsize=(12, 7))\n",
    "_x = np.linspace(-10, 10).reshape(-1, 1)\n",
    "plt.subplot(121)\n",
    "plt.title('Before Learning, theta: {:.3f}'.format(theta[0]))\n",
    "plt.scatter(x[:, 0], y)\n",
    "plt.plot(_x, h_x(theta, _x), c='orange', linestyle='--')\n",
    "\n",
    "plt.subplot(122)\n",
    "plt.title('After Learning, new theta: {:.3f}'.format(theta_new[0]))\n",
    "_x = np.linspace(-10, 10).reshape(-1, 1)\n",
    "plt.scatter(x[:, 0], y)\n",
    "plt.plot(_x, h_x(theta_new, _x), c='orange', linestyle='--')\n"
   ]
  }
 ],
 "metadata": {
  "kernelspec": {
   "display_name": "Python 3",
   "language": "python",
   "name": "python3"
  },
  "language_info": {
   "codemirror_mode": {
    "name": "ipython",
    "version": 3
   },
   "file_extension": ".py",
   "mimetype": "text/x-python",
   "name": "python",
   "nbconvert_exporter": "python",
   "pygments_lexer": "ipython3",
   "version": "3.7.6"
  }
 },
 "nbformat": 4,
 "nbformat_minor": 4
}
